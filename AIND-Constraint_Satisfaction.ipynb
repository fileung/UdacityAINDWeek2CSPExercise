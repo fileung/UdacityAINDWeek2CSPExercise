{
 "cells": [
  {
   "cell_type": "markdown",
   "metadata": {
    "nbpresent": {
     "id": "bd04aaa1-b6e7-47c8-8559-f8d3ee6f4bb7"
    }
   },
   "source": [
    "# Constraint Satisfaction Problems\n",
    "---\n",
    "Constraint satisfaction is a general problem solving technique for solving a class of combinatorial optimization problems by imposing limits on the values in the solution. The goal of this exercise is to practice formulating some classical example problems as CSPs, and then to explore using a powerful open source constraint satisfaction tool called [Z3](https://github.com/Z3Prover/z3) from Microsoft Research to solve them. Practicing with these simple problems will help you to recognize real-world problems that can be posed as CSPs; some solvers even have specialized utilities for specific types of problem (vehicle routing, planning, scheduling, etc.).\n",
    "\n",
    "There are many different kinds of CSP solvers available for CSPs. Z3 is a \"Satisfiability Modulo Theories\" (SMT) solver, which means that unlike the backtracking and variable assignment heuristics discussed in lecture, Z3 first converts CSPs to satisfiability problems then uses a SAT solver to determine feasibility. Z3 includes a number of efficient solver algorithms primarily developed to perform formal program verification, but it can also be used on general CSPs. Google's [OR tools](https://developers.google.com/optimization/) includes a CP solver using backtracking with specialized subroutines for some common CP domains.\n",
    "\n",
    "## I. The Road Ahead\n",
    "\n",
    "0. [Cryptarithmetic](#I.-Cryptarithmetic) - introducing the Z3 API with simple word puzzles\n",
    "0. [Map Coloring](#II.-Map-Coloring) - solving the map coloring problem from lectures\n",
    "0. [N-Queens](#III.-N-Queens) - experimenting with problems that scale\n",
    "0. [Revisiting Sudoku](#IV.-Revisiting-Sudoku) - revisit the sudoku project with the Z3 solver"
   ]
  },
  {
   "cell_type": "code",
   "execution_count": 347,
   "metadata": {
    "nbpresent": {
     "id": "cc666545-0253-46fa-874c-22d734061c3e"
    }
   },
   "outputs": [],
   "source": [
    "%matplotlib inline"
   ]
  },
  {
   "cell_type": "code",
   "execution_count": 348,
   "metadata": {
    "nbpresent": {
     "id": "6e174a93-1493-4005-aa2f-2cd8e3cd1c6c"
    }
   },
   "outputs": [],
   "source": [
    "import matplotlib as mpl\n",
    "import matplotlib.pyplot as plt\n",
    "\n",
    "# from util import displayBoard\n",
    "from itertools import product\n",
    "from IPython.display import display\n",
    "from z3 import *"
   ]
  },
  {
   "cell_type": "markdown",
   "metadata": {
    "nbpresent": {
     "id": "2b53b977-37d0-4d9f-aedb-f82ecc484aad"
    }
   },
   "source": [
    "---\n",
    "## I. Cryptarithmetic\n",
    "\n",
    "We'll start by exploring the Z3 module with a _very_ simple & classic CSP problem called cryptarithmetic. A cryptarithmetic puzzle is posed as an arithmetic equation made up of words where each letter represents a distinct digit in the range (0-9). (This problem has no practical significance in AI, but it is a useful illustration of the basic ideas of CSPs.) For example, consider the problem and one possible solution shown below:\n",
    "\n",
    "```\n",
    "  T W O  :    9 3 8\n",
    "+ T W O  :  + 9 3 8\n",
    "-------  :  -------\n",
    "F O U R  :  1 8 7 6\n",
    "```\n",
    "There are six distinct variables (F, O, R, T, U, W), and when we require each letter to represent a disctinct number (e.g., F != O, R != T, ..., etc.) and disallow leading zeros (i.e., T != 0 and F != 0) then one possible solution is (F=1, O=8, R=6, T=9, U=7, W=3). \n",
    "\n",
    "### IMPLEMENTATION: Declaring Variables\n",
    "For this problem we need a single variable for each distinct letter in the puzzle, and each variable will have an integer values between 0-9. (We will handle restricting the leading digits separately.) Complete the declarations in the next cell to create all of the remaining variables and constraint them to the range 0-9."
   ]
  },
  {
   "cell_type": "code",
   "execution_count": 349,
   "metadata": {
    "nbpresent": {
     "id": "13075dfc-0d61-4085-8792-f9d5d110b4df"
    }
   },
   "outputs": [],
   "source": [
    "ca_solver = Solver()  # create an instance of a Z3 CSP solver\n",
    "\n",
    "F = Int('F')  # create an z3.Int type variable instance called \"F\"\n",
    "ca_solver.add(0 <= F, F <= 9)  # add constraints to the solver: 0 <= F <= 9\n",
    "# ...\n",
    "# TODO: Add all the missing letter variables\n",
    "O = Int('O')\n",
    "U = Int('U')\n",
    "R = Int('R')\n",
    "T = Int('T')\n",
    "W = Int('W')\n",
    "\n",
    "ca_solver.add(0 <= O, O <= 9)\n",
    "ca_solver.add(0 <= U, U <= 9)\n",
    "ca_solver.add(0 <= R, R <= 9)\n",
    "ca_solver.add(0 <= T, T <= 9)\n",
    "ca_solver.add(0 <= W, W <= 9)"
   ]
  },
  {
   "cell_type": "markdown",
   "metadata": {
    "nbpresent": {
     "id": "01d15c62-0a4a-447c-bff2-02fd007efb5a"
    }
   },
   "source": [
    "### IMPLEMENTATION: Encoding Assumptions as Constraints\n",
    "We had two additional assumptions that need to be added as constraints: 1) leading digits cannot be zero, and 2) no two distinct letters represent the same digits. The first assumption can simply be added as a boolean statement like M != 0. And the second is a _very_ common CSP constraint (so common, in fact, that most libraries have a built in function to support it); z3 is no exception, with the Distinct(var_list) constraint function."
   ]
  },
  {
   "cell_type": "code",
   "execution_count": 350,
   "metadata": {
    "nbpresent": {
     "id": "4247b858-7e30-4a35-961d-eeab31b3817b"
    }
   },
   "outputs": [],
   "source": [
    "# TODO: Add constraints prohibiting leading digits F & T from taking the value 0\n",
    "ca_solver.add( F != 0 )\n",
    "ca_solver.add( T != 0 )\n",
    "\n",
    "# TODO: Add a Distinct constraint for all the variables\n",
    "ca_solver.add( F != Distinct([O,U,R,T,W]) )\n",
    "ca_solver.add( O != Distinct([F,U,R,T,W]) )\n",
    "ca_solver.add( U != Distinct([F,O,R,T,W]) )\n",
    "ca_solver.add( R != Distinct([F,O,U,T,W]) )\n",
    "ca_solver.add( T != Distinct([F,O,U,R,W]) )\n",
    "ca_solver.add( W != Distinct([F,O,U,R,T]) )\n"
   ]
  },
  {
   "cell_type": "markdown",
   "metadata": {
    "nbpresent": {
     "id": "bf0d7dc6-8a86-4b26-8327-f7be007aee96"
    }
   },
   "source": [
    "### Choosing Problem Constraints\n",
    "There are often multiple ways to express the constraints for a problem. For example, in this case we could write a single large constraint combining all of the letters simultaneously $T\\times10^2 + W\\times10^1 + O\\times10^0 + T\\times10^2 + W\\times10^1 + O\\times10^0 = F\\times10^4 + O\\times10^3 + U\\times10^2 + R\\times10^0$. This kind of constraint works fine for some problems, but large constraints cannot usually be evaluated for satisfiability unless every variable is bound to a specific value. Expressing the problem with smaller constraints can sometimes allow the solver to finish faster.\n",
    "\n",
    "For example, we can break out each pair of digits in the summands and introduce a carry variable for each column: $(O + O)\\times10^0 = R\\times10^0 + carry_1\\times10^1$ This constraint can be evaluated as True/False with only four values assigned.\n",
    "\n",
    "The choice of encoding on this problem is unlikely to have any effect (because the problem is so small), however it is worth considering on more complex problems.\n",
    "\n",
    "### Implementation: Add the Problem Constraints\n",
    "Pick one of the possible encodings discussed above and add the required constraints into the solver in the next cell. "
   ]
  },
  {
   "cell_type": "code",
   "execution_count": 351,
   "metadata": {
    "nbpresent": {
     "id": "01592d13-dc1b-4ce3-a0cf-3a96a506a324"
    }
   },
   "outputs": [],
   "source": [
    "# TODO: add any required variables and/or constraints to solve the cryptarithmetic puzzle\n",
    "# Primary solution using single constraint for the cryptarithmetic equation\n",
    "\n",
    "# following above equation\n",
    "# ca_solver.add( (T*(10**2))+(W*(10**1))+(O*(10**0))+(T*(10**2))+(W*(10**1))+(O*(10**0)) == (F*(10**4))+(O*(10**3))+(U*(10**2))+(R*(10**0)) )\n",
    "# run time error - the solver did not find a solution\n",
    "\n",
    "# changes to above equation, the ^power of each letter are incorrect\n",
    "# change from incorrect: T×10^2+W×10^1+O×10^0+T×10^2+W×10^1+O×10^0=F×10^4+O×10^3+U×10^2+R×10^0\n",
    "# change to correct:     T×10^3+W×10^2+O×10^1+T×10^3+W×10^2+O×10^1=F×10^4+O×10^3+U×10^2+R×10^1\n",
    "ca_solver.add( (T*(10**3))+(W*(10**2))+(O*(10**1))+(T*(10**3))+(W*(10**2))+(O*(10**1)) == (F*(10**4))+(O*(10**3))+(U*(10**2))+(R*(10**1)) )\n",
    "\n",
    "Carry1 = Int('CARRY1')\n",
    "ca_solver.add( (O+O)*(10**1) == R*(10**1)+Carry1*(10**2) )\n",
    "Carry2 = Int('CARRY2')\n",
    "ca_solver.add( (W+W)*(10**2)+Carry1 == U*(10**2)+Carry2*(10**3) )\n",
    "Carry3 = Int('CARRY3')\n",
    "ca_solver.add( (T+T)*(10**3)+Carry2 == O*(10**3)+Carry3*(10**4) )\n",
    "# first digit have nothing to carry, as no next digit\n",
    "ca_solver.add( F == Carry3 )\n"
   ]
  },
  {
   "cell_type": "code",
   "execution_count": 352,
   "metadata": {
    "nbpresent": {
     "id": "1167e203-2110-48d5-b8b8-c6ba91a869cb"
    }
   },
   "outputs": [
    {
     "name": "stdout",
     "output_type": "stream",
     "text": [
      "  T W O  :    6 0 2\n",
      "+ T W O  :  + 6 0 2\n",
      "-------  :  -------\n",
      "F O U R  :  1 2 0 4\n"
     ]
    }
   ],
   "source": [
    "assert ca_solver.check() == sat, \"Uh oh...the solver did not find a solution. Check your constraints.\"\n",
    "print(\"  T W O  :    {} {} {}\".format(ca_solver.model()[T], ca_solver.model()[W], ca_solver.model()[O]))\n",
    "print(\"+ T W O  :  + {} {} {}\".format(ca_solver.model()[T], ca_solver.model()[W], ca_solver.model()[O]))\n",
    "print(\"-------  :  -------\")\n",
    "print(\"F O U R  :  {} {} {} {}\".format(ca_solver.model()[F], ca_solver.model()[O], ca_solver.model()[U], ca_solver.model()[R]))"
   ]
  },
  {
   "cell_type": "code",
   "execution_count": 353,
   "metadata": {
    "nbpresent": {
     "id": "a7ee06e5-b6a0-40ff-8025-540817717a96"
    }
   },
   "outputs": [],
   "source": [
    "# [CTRL]+[/] to comment out selected lines of code\n",
    "\n",
    "# Output - possible solutions\n",
    "#   T W O  :    9 5 9\n",
    "# + T W O  :  + 9 5 9\n",
    "# -------  :  -------\n",
    "# F O U R  :  1 9 1 8\n",
    "    \n",
    "#   T W O  :    6 0 2\n",
    "# + T W O  :  + 6 0 2\n",
    "# -------  :  -------\n",
    "# F O U R  :  1 2 0 4"
   ]
  },
  {
   "cell_type": "markdown",
   "metadata": {
    "nbpresent": {
     "id": "c748e561-f7b6-4a42-9367-78ccfb304acd"
    }
   },
   "source": [
    "### Cryptarithmetic Challenges\n",
    "0. Search online for [more cryptarithmetic puzzles](https://www.reddit.com/r/dailyprogrammer/comments/7p5p2o/20180108_challenge_346_easy_cryptarithmetic_solver/) (or create your own). Come to office hours or join a discussion channel to chat with your peers about the trade-offs between monolithic constraints & splitting up the constraints. (Is one way or another easier to generalize or scale with new problems? Is one of them faster for large or small problems?)\n",
    "0. Can you extend the solution to handle complex puzzles (e.g., using multiplication WORD1 x WORD2 = OUTPUT)?"
   ]
  },
  {
   "cell_type": "markdown",
   "metadata": {
    "nbpresent": {
     "id": "cfe1497f-310a-4240-a8da-583aba8e10bd"
    }
   },
   "source": [
    "---\n",
    "## II. Map Coloring\n",
    "\n",
    "[Map coloring](https://en.wikipedia.org/wiki/Map_coloring) is a classic example of CSPs. A map coloring problem is specified by a set of colors and a map showing the borders between distinct regions. A solution to a map coloring problem is an assignment of one color to each region of the map such that no pair of adjacent regions have the same color.\n",
    "\n",
    "Run the first cell below to declare the color palette and a solver. The color palette specifies a mapping from integer to color. We'll use integers to represent the values in each constraint; then we can decode the solution from Z3 to determine the color applied to each region in the map.\n",
    "\n",
    "![Map coloring is a classic example CSP](map.png)"
   ]
  },
  {
   "cell_type": "code",
   "execution_count": 354,
   "metadata": {
    "nbpresent": {
     "id": "32d05fe3-1ede-4472-b8a7-428ecaefd853"
    }
   },
   "outputs": [],
   "source": [
    "# create instance of Z3 solver & declare color palette\n",
    "mc_solver = Solver()\n",
    "colors = {'0': \"Blue\", '1': \"Red\", '2': \"Green\"}"
   ]
  },
  {
   "cell_type": "markdown",
   "metadata": {
    "nbpresent": {
     "id": "e294c71b-334e-48fd-9a77-813f9b914fce"
    }
   },
   "source": [
    "### IMPLEMENTATION: Add Variables\n",
    "Add a variable to represent each region on the map above. Use the abbreviated name for the regions: WA=Western Australia, SA=Southern Australia, NT=Northern Territory, Q=Queensland, NSW=New South Wales, V=Victoria, T=Tasmania. Add constraints to each variable to restrict it to one of the available colors: 0=Blue, 1=Red, 2=Green."
   ]
  },
  {
   "cell_type": "code",
   "execution_count": 355,
   "metadata": {
    "nbpresent": {
     "id": "2e6275cd-9aea-4acd-b955-1c196d919b29"
    }
   },
   "outputs": [],
   "source": [
    "WA = Int('WA')\n",
    "mc_solver.add(0 <= WA, WA <= 2)\n",
    "# ...\n",
    "# TODO: add the remaining six regions and color constraints\n",
    "\n",
    "SA = Int('SA')\n",
    "NT = Int('NT')\n",
    "Q = Int('Q')\n",
    "NSW = Int('NSW')\n",
    "V = Int('V')\n",
    "T = Int('T')\n",
    "\n",
    "mc_solver.add(0 <= SA, SA <= 2)\n",
    "mc_solver.add(0 <= NT, NT <= 2)\n",
    "mc_solver.add(0 <= Q, Q <= 2)\n",
    "mc_solver.add(0 <= NSW, NSW <= 2)\n",
    "mc_solver.add(0 <= V, V <= 2)\n",
    "mc_solver.add(0 <= T, T <= 2)\n"
   ]
  },
  {
   "cell_type": "markdown",
   "metadata": {
    "nbpresent": {
     "id": "2e76139e-d06f-466f-a3b1-29ea7ec10a77"
    }
   },
   "source": [
    "### IMPLEMENTATION: Distinct Adjacent Colors Constraints\n",
    "As in the previous example, there are many valid ways to add constraints that enforce assigning different colors to adjacent regions of the map. One way is to add boolean constraints for each pair of adjacent regions, e.g., WA != SA; WA != NT; etc.\n",
    "\n",
    "Another way is to use so-called pseudo-boolean cardinality constraint, which is a constraint of the form $ \\sum w_i l_i = k $. Constraints of this form can be created in Z3 using `PbEq(((booleanA, w_A), (booleanB, w_B), ...), k)`. Distinct neighbors can be written with k=0, and w_i = 1 for all values of i. (Note: Z3 also has `PbLe()` for $\\sum w_i l_i <= k $ and `PbGe()` for $\\sum w_i l_i >= k $)\n",
    "\n",
    "Choose one of the encodings discussed above and add the required constraints to the solver in the next cell."
   ]
  },
  {
   "cell_type": "code",
   "execution_count": 356,
   "metadata": {
    "nbpresent": {
     "id": "aec3b9bb-bbbf-4633-840d-c06008b96cb2"
    }
   },
   "outputs": [],
   "source": [
    "# TODO: add constraints to require adjacent regions to take distinct colors\n",
    "\n",
    "mc_solver.add(WA != NT, WA != SA)\n",
    "mc_solver.add(NT != SA, NT != Q)\n",
    "mc_solver.add(SA != Q, SA != NSW, SA != V)\n",
    "mc_solver.add(Q != NT, Q != SA, Q != NSW)\n",
    "mc_solver.add(NSW != Q, NSW != SA, NSW != V)\n",
    "mc_solver.add(V != SA, V != NSW)\n",
    "# No Constraint for T as it is an isolated island\n",
    "\n",
    "# -----------\n",
    "# need to review Z3 and use PbEq, PbLe, PbGe\n"
   ]
  },
  {
   "cell_type": "code",
   "execution_count": 357,
   "metadata": {
    "nbpresent": {
     "id": "82cc7302-cc83-4294-8a85-22b1b5ff4e57"
    }
   },
   "outputs": [
    {
     "name": "stdout",
     "output_type": "stream",
     "text": [
      "WA=Blue\n",
      "NT=Green\n",
      "SA=Red\n",
      "Q=Blue\n",
      "NSW=Green\n",
      "V=Blue\n",
      "T=Blue\n"
     ]
    }
   ],
   "source": [
    "assert mc_solver.check() == sat, \"Uh oh. The solver failed to find a solution. Check your constraints.\"\n",
    "print(\"WA={}\".format(colors[mc_solver.model()[WA].as_string()]))\n",
    "print(\"NT={}\".format(colors[mc_solver.model()[NT].as_string()]))\n",
    "print(\"SA={}\".format(colors[mc_solver.model()[SA].as_string()]))\n",
    "print(\"Q={}\".format(colors[mc_solver.model()[Q].as_string()]))\n",
    "print(\"NSW={}\".format(colors[mc_solver.model()[NSW].as_string()]))\n",
    "print(\"V={}\".format(colors[mc_solver.model()[V].as_string()]))\n",
    "print(\"T={}\".format(colors[mc_solver.model()[T].as_string()]))"
   ]
  },
  {
   "cell_type": "code",
   "execution_count": 358,
   "metadata": {
    "nbpresent": {
     "id": "3ec90578-adaf-4935-a436-3c153743a986"
    }
   },
   "outputs": [
    {
     "name": "stdout",
     "output_type": "stream",
     "text": [
      "a = True b = False c = True d = True\n"
     ]
    }
   ],
   "source": [
    "# Z3 PbEq(), Eq = Equal, example 1\n",
    "\n",
    "S = Solver()\n",
    "a, b, c, d = Bools('a b c d')\n",
    "\n",
    "# the sum of a + b + c + d = k\n",
    "# e.g. 1+2+3+4=8\n",
    "#      T+F+T+T=K\n",
    "#      1+0+3+4=8\n",
    "S.add((PbEq([(a, 1), (b, 2), (c, 3), (d, 4)], 8)))\n",
    "\n",
    "S.check()\n",
    "M = S.model()\n",
    "\n",
    "print ('a =', M[a], 'b =', M[b], 'c =', M[c], 'd =', M[d])\n"
   ]
  },
  {
   "cell_type": "code",
   "execution_count": 359,
   "metadata": {
    "nbpresent": {
     "id": "98f2e5ed-ce65-4e0a-8e4b-c5ad072caf8f"
    }
   },
   "outputs": [
    {
     "name": "stdout",
     "output_type": "stream",
     "text": [
      "a = True b = False c = False d = True\n"
     ]
    }
   ],
   "source": [
    "# Z3 PbEq(), Eq = Equal, example 2\n",
    "\n",
    "S = Solver()\n",
    "a, b, c, d = Bools('a b c d')\n",
    "\n",
    "# e.g. 1+2+3+99=100\n",
    "#      T+F+F+T =K\n",
    "#      1+0+0+99=100\n",
    "S.add((PbEq([(a, 1), (b, 2), (c, 3), (d, 99)], 100)))\n",
    "\n",
    "S.check()\n",
    "M = S.model()\n",
    "\n",
    "print ('a =', M[a], 'b =', M[b], 'c =', M[c], 'd =', M[d])\n"
   ]
  },
  {
   "cell_type": "code",
   "execution_count": 360,
   "metadata": {
    "nbpresent": {
     "id": "03096c02-6573-4eae-a82a-19464d0230a7"
    }
   },
   "outputs": [
    {
     "name": "stdout",
     "output_type": "stream",
     "text": [
      "a = False b = False c = False d = False\n"
     ]
    }
   ],
   "source": [
    "# Z3 PbLe(), Le = Less than or equal to\n",
    "\n",
    "S = Solver()\n",
    "a, b, c, d = Bools('a b c d')\n",
    "\n",
    "# the sum of a + b + c + d <= k\n",
    "# e.g. 1+2+3+4<=1\n",
    "#      F+F+F+F<=K\n",
    "#      0+0+0+0<=1\n",
    "S.add((PbLe([(a, 1), (b, 2), (c, 3), (d, 4)], 1)))\n",
    "\n",
    "S.check()\n",
    "M = S.model()\n",
    "\n",
    "print ('a =', M[a], 'b =', M[b], 'c =', M[c], 'd =', M[d])\n"
   ]
  },
  {
   "cell_type": "code",
   "execution_count": 364,
   "metadata": {
    "nbpresent": {
     "id": "65d30142-c010-4333-89db-a235c9294a65"
    }
   },
   "outputs": [
    {
     "name": "stdout",
     "output_type": "stream",
     "text": [
      "a = None b = None c = None d = None\n"
     ]
    }
   ],
   "source": [
    "# Z3 PbLe(), Le = Less than or equal to\n",
    "\n",
    "S = Solver()\n",
    "a, b, c, d = Bools('a b c d')\n",
    "\n",
    "# the sum of a + b + c + d <= k\n",
    "# e.g. 1+2+3+4<=1\n",
    "#      F+F+F+F<=K\n",
    "#      0+0+0+0<=1\n",
    "S.add((PbLe([(a, -3), (b, -2), (c, -1), (d, 0)], 0)))\n",
    "\n",
    "S.check()\n",
    "M = S.model()\n",
    "\n",
    "print ('a =', M[a], 'b =', M[b], 'c =', M[c], 'd =', M[d])\n",
    "# why all None? all could be True right?"
   ]
  },
  {
   "cell_type": "code",
   "execution_count": 365,
   "metadata": {
    "nbpresent": {
     "id": "c7a44519-50d3-4c6e-bd4c-3711f1d52d4d"
    }
   },
   "outputs": [
    {
     "name": "stdout",
     "output_type": "stream",
     "text": [
      "a = True b = False c = False d = False\n"
     ]
    }
   ],
   "source": [
    "# Z3 PbGe(), Ge = Greater than or equal to\n",
    "S = Solver()\n",
    "\n",
    "a, b, c, d = Bools('a b c d')\n",
    "\n",
    "# the sum of a + b + c + d >= k\n",
    "# e.g. 4+3+2+1<=4\n",
    "#      T+F+F+F<=K\n",
    "#      4+0+0+0<=4\n",
    "S.add((PbGe([(a, 4), (b, 3), (c, 2), (d, 1)], 4)))\n",
    "\n",
    "S.check()\n",
    "M = S.model()\n",
    "\n",
    "print ('a =', M[a], 'b =', M[b], 'c =', M[c], 'd =', M[d])\n"
   ]
  },
  {
   "cell_type": "code",
   "execution_count": 366,
   "metadata": {
    "nbpresent": {
     "id": "4264678f-6203-481b-8211-ac64bb7b543d"
    }
   },
   "outputs": [
    {
     "name": "stdout",
     "output_type": "stream",
     "text": [
      "sat\n",
      "[y = 3/2, x = 4]\n"
     ]
    }
   ],
   "source": [
    "# Z3 github examples\n",
    "\n",
    "x = Real('x')\n",
    "y = Real('y')\n",
    "\n",
    "s = Solver()\n",
    "s.add(x + y > 5, x > 1, y > 1)\n",
    "\n",
    "print(s.check())\n",
    "print(s.model())\n"
   ]
  },
  {
   "cell_type": "markdown",
   "metadata": {
    "collapsed": true,
    "nbpresent": {
     "id": "25921df4-3cf9-4201-805b-00d4db0d4418"
    }
   },
   "source": [
    "#### Map Coloring Challenge Problems\n",
    "1. Generalize the procedure for this problem and try it on a larger map (countries in Africa, states in the USA, etc.)\n",
    "2. Extend your procedure to perform [graph coloring](https://en.wikipedia.org/wiki/Graph_coloring) (maps are planar graphs; extending to all graphs generalizes the concept of \"neighbors\" to any pair of connected nodes). (Note: graph coloring is [NP-hard](https://en.wikipedia.org/wiki/Graph_coloring#Computational_complexity), so it may take a very long time to color large graphs.)"
   ]
  },
  {
   "cell_type": "markdown",
   "metadata": {
    "nbpresent": {
     "id": "cdd8299b-3f13-4a31-a14b-aa9af416cf9f"
    }
   },
   "source": [
    "---\n",
    "## III. N-Queens\n",
    "\n",
    "In the next problem domain you'll solve the 8-queens puzzle, then use it to explore the complexity of solving CSPs. The 8-queens problem asks you to place 8 queens on a standard 8x8 chessboard such that none of the queens are in \"check\" (i.e., no two queens occupy the same row, column, or diagonal). The N-queens problem generalizes the puzzle to to any size square board.\n",
    "\n",
    "![The 8-queens problem is another classic CSP example](EightQueens.gif)\n",
    "\n",
    "There are many acceptable ways to represent the N-queens problem, but one convenient way is to recognize that one of the constraints (either the row or column constraint) can be enforced implicitly by the encoding.  If we represent a solution as an array with N elements, then each position in the array can represent a column of the board, and the value at each position can represent which row the queen is placed on.\n",
    "\n",
    "In this encoding, we only need a constraint to make sure that no two queens occupy the same row, and one to make sure that no two queens occupy the same diagonal.\n",
    "\n",
    "#### IMPLEMENTATION: N-Queens Solver\n",
    "Complete the function below to take an integer N >= 5 and return a Z3 solver instance with appropriate constraints to solve the N-Queens problem. NOTE: it may take a few minutes for the solver to complete the suggested sizes below."
   ]
  },
  {
   "cell_type": "code",
   "execution_count": 505,
   "metadata": {
    "nbpresent": {
     "id": "56a3c4a8-72c2-422d-9898-07b0f93ecf45"
    }
   },
   "outputs": [],
   "source": [
    "def Abs(x):\n",
    "    return If(x >= 0, x, -x)\n",
    "\n",
    "def nqueens(N):\n",
    "    # TODO: Finish this function!\n",
    "    \n",
    "    S = Solver()\n",
    "\n",
    "    queen_pos_list = []\n",
    "    \n",
    "    # create 1 row position for each column, 8x8 = 8 queen positions, Q1, Q2 etc\n",
    "    for col in range(1, N+1):\n",
    "        # new Z3 variable for next queen pos\n",
    "        # variable result example: Queen1, Queen2, Queen3 etc\n",
    "        queen_row_pos = Int('Queen'+str(col))\n",
    "        queen_pos_list.append(queen_row_pos)\n",
    "        \n",
    "#     print ('queen_pos_list=', queen_pos_list)\n",
    "\n",
    "    for pos in range(0, len(queen_pos_list)):\n",
    "#         print(pos)\n",
    "        # each position is a number between 1-N, 1-8 on 8x8 board)\n",
    "        S.add(1 <= queen_pos_list[pos], queen_pos_list[pos] <= N)\n",
    "\n",
    "        # each position cannot be the same digit, where same digit mean same row\n",
    "        # N is column, each position are already seperated to its own column\n",
    "        for pos2 in range(0, len(queen_pos_list)):\n",
    "#             print(pos2)\n",
    "            # skip on same position index\n",
    "            if(pos != pos2):\n",
    "                # check - not same row 'check'\n",
    "                S.add(queen_pos_list[pos] != queen_pos_list[pos2])\n",
    "                \n",
    "                # CODE TO DO\n",
    "                # check - not diagonal 'check' \n",
    "#                 S.add(queen_pos_list[pos] != queen_pos_list[pos2])\n",
    "\n",
    "        \n",
    "    S.check()\n",
    "#     M = S.model()\n",
    "    \n",
    "    # try get solver model each variable and value, works\n",
    "#     for q in M:\n",
    "#         print (q, '=', M[q])\n",
    "#     print ('model size=', len(M))\n",
    "    \n",
    "    # visual model on board\n",
    "    plot_solver_chess_board(S)\n",
    "\n",
    "    return S\n"
   ]
  },
  {
   "cell_type": "code",
   "execution_count": 508,
   "metadata": {},
   "outputs": [],
   "source": [
    "# Visual the 8 Queens solution\n",
    "# Notices - i wrote this method before reading the challenge description and realize there is a method for this already in util.py! \n",
    "import matplotlib.pyplot as plt\n",
    "from matplotlib.table import Table \n",
    "import numpy as np\n",
    "import pandas\n",
    "\n",
    "def plot_solver_chess_board(solver):\n",
    "\n",
    "    if solver == None:\n",
    "        return\n",
    "    \n",
    "    # 1. Z3 solver handling\n",
    "    model = solver.model()\n",
    "    n = len(model)\n",
    "    \n",
    "    #extract model solutions, as cannot be indexed like array\n",
    "    q_solutions = dict()\n",
    "    for q in model:\n",
    "        q_solutions[str(q)] = model[q]\n",
    "#     print ('q_solutions =', q_solutions)\n",
    "    \n",
    "    # 2. plot on board\n",
    "    fig, ax = plt.subplots()\n",
    "    ax.set_axis_off()\n",
    "    \n",
    "    tb = Table(ax, bbox=[0,0,1,1.5])\n",
    "\n",
    "    w = 100\n",
    "    h = 100\n",
    "    \n",
    "    color1 = 'lightyellow'\n",
    "    color2 = 'brown'\n",
    "    colorQ = '#00FF00'\n",
    "    empty = ''\n",
    "    queen = 'Q'\n",
    "    \n",
    "    for col in range(1, n+1):\n",
    "        # get queen row positon of this column\n",
    "        q_solution_key = 'Queen'+str(col)\n",
    "        q_row_pos_str = q_solution_key.replace('Queen', '')\n",
    "        \n",
    "        for row in range(1, n+1):\n",
    "\n",
    "            if row == q_solutions[q_solution_key]:\n",
    "                cell_text = queen+q_row_pos_str\n",
    "            else:\n",
    "                cell_text = empty #str(row)+str(col) e.g. A1, C5 etc\n",
    "\n",
    "            if (col+row) % 2 == 0:\n",
    "                if (cell_text == ''):\n",
    "                    color = color1\n",
    "                else:\n",
    "                    color = colorQ\n",
    "                tb.add_cell(row, col, w, h, text=cell_text, loc='center', facecolor=color)\n",
    "            else:\n",
    "                if (cell_text == ''):\n",
    "                    color = color2\n",
    "                else:\n",
    "                    color = colorQ\n",
    "                tb.add_cell(row, col, w, h, text=cell_text, loc='center', facecolor=color)\n",
    "    \n",
    "    \n",
    "    ax.add_table(tb)\n",
    "    plt.show()\n",
    "    "
   ]
  },
  {
   "cell_type": "code",
   "execution_count": 507,
   "metadata": {
    "nbpresent": {
     "id": "9b25d514-9374-4a78-9bdf-23ea50880fb6"
    },
    "scrolled": false
   },
   "outputs": [
    {
     "data": {
      "image/png": "[encoded data removed]",
      "text/plain": [
       "<matplotlib.figure.Figure at 0x7fee1e4ac630>"
      ]
     },
     "metadata": {},
     "output_type": "display_data"
    },
    {
     "name": "stdout",
     "output_type": "stream",
     "text": [
      "8-queens: 13.459459005389363ms\n"
     ]
    },
    {
     "data": {
      "image/png": "[encoded data removed]",
      "text/plain": [
       "<matplotlib.figure.Figure at 0x7fee1e4ac7f0>"
      ]
     },
     "metadata": {},
     "output_type": "display_data"
    },
    {
     "name": "stdout",
     "output_type": "stream",
     "text": [
      "16-queens: 20.75470198178664ms\n"
     ]
    },
    {
     "data": {
      "image/png": "[encoded data removed]",
      "text/plain": [
       "<matplotlib.figure.Figure at 0x7fee1e4ac3c8>"
      ]
     },
     "metadata": {},
     "output_type": "display_data"
    },
    {
     "name": "stdout",
     "output_type": "stream",
     "text": [
      "32-queens: 87.63777697458863ms\n"
     ]
    },
    {
     "data": {
      "image/png": "[encoded data removed]",
      "text/plain": [
       "<matplotlib.figure.Figure at 0x7fee1fa8bb38>"
      ]
     },
     "metadata": {},
     "output_type": "display_data"
    },
    {
     "name": "stdout",
     "output_type": "stream",
     "text": [
      "64-queens: 251.80450198240578ms\n"
     ]
    },
    {
     "data": {
      "text/plain": [
       "[<matplotlib.lines.Line2D at 0x7fee1ee0da58>]"
      ]
     },
     "execution_count": 507,
     "metadata": {},
     "output_type": "execute_result"
    },
    {
     "data": {
      "image/png": "[encoded data removed]",
      "text/plain": [
       "<matplotlib.figure.Figure at 0x7fee1e159518>"
      ]
     },
     "metadata": {},
     "output_type": "display_data"
    }
   ],
   "source": [
    "import time\n",
    "\n",
    "runtimes = []\n",
    "solutions = []\n",
    "sizes = [8, 16, 32, 64]\n",
    "# sizes = [8] # first just check 8x8\n",
    "\n",
    "for N in sizes:\n",
    "    nq_solver = nqueens(N)\n",
    "    start = time.perf_counter()\n",
    "    assert nq_solver.check(), \"Uh oh...The solver failed to find a solution. Check your constraints.\"\n",
    "    end = time.perf_counter()\n",
    "    print(\"{}-queens: {}ms\".format(N, (end-start) * 1000))\n",
    "    runtimes.append((end - start) * 1000)\n",
    "    solutions.append(nq_solver)\n",
    "\n",
    "plt.plot(sizes, runtimes)"
   ]
  },
  {
   "cell_type": "markdown",
   "metadata": {
    "nbpresent": {
     "id": "70744ca8-eb06-406e-bb17-79ae0dbebc10"
    }
   },
   "source": [
    "### Queen Problem Challenges\n",
    "- Extend the loop to run several times and estimate the variance in the solver. How consistent is the solver timing between runs?\n",
    "- Read the `displayBoard()` function in the `util.py` module and use it to show your N-queens solution."
   ]
  },
  {
   "cell_type": "markdown",
   "metadata": {
    "nbpresent": {
     "id": "a927a027-3f0e-4f92-b9ae-61dad9d17687"
    }
   },
   "source": [
    "---\n",
    "## IV. Revisiting Sudoku\n",
    "For the last CSP we'll revisit Sudoku from the first project. You previously solved Sudoku using backtracking search with constraint propagation. This time you'll re-write your solver using Z3. The backtracking search solver relied on domain-specific heuristics to select assignments during search, and to apply constraint propagation strategies (like elimination, only-choice, naked twins, etc.). The Z3 solver does not incorporate any domain-specific information, but makes up for that by incorporating a more sophisticated and a compiled solver routine.\n",
    "\n",
    "![Example of an easy sudoku puzzle](sudoku.png)"
   ]
  },
  {
   "cell_type": "code",
   "execution_count": 600,
   "metadata": {
    "nbpresent": {
     "id": "9ccf5343-537c-4112-9be9-53dc7103ebf1"
    }
   },
   "outputs": [],
   "source": [
    "from itertools import chain  # flatten nested lists; chain(*[[a, b], [c, d], ...]) == [a, b, c, d, ...]\n",
    "rows = 'ABCDEFGHI'\n",
    "cols = '123456789'\n",
    "boxes = [[Int(\"{}{}\".format(r, c)) for c in cols] for r in rows]  # declare variables for each box in the puzzle\n",
    "s_solver = Solver()  # create a solver instance\n",
    "\n",
    "# view whats going on\n",
    "# print (boxes)"
   ]
  },
  {
   "cell_type": "markdown",
   "metadata": {
    "nbpresent": {
     "id": "2add36d0-c12f-4392-b456-bc88a2412103"
    }
   },
   "source": [
    "#### IMPLEMENTATION: General Constraints\n",
    "Add constraints for each of the following conditions:\n",
    "- Boxes can only have values between 1-9 (inclusive)\n",
    "- Each box in a row must have a distinct value\n",
    "- Each box in a column must have a distinct value\n",
    "- Each box in a 3x3 block must have a distinct value"
   ]
  },
  {
   "cell_type": "code",
   "execution_count": 601,
   "metadata": {
    "nbpresent": {
     "id": "9c18abbd-907e-4acb-ade4-05d9c80d4d54"
    }
   },
   "outputs": [
    {
     "name": "stdout",
     "output_type": "stream",
     "text": [
      "A1 not equal constraint =  [A2, A3, A4, A5, A6, A7, A8, A9]\n",
      "A2 not equal constraint =  [A1, A3, A4, A5, A6, A7, A8, A9]\n",
      "A3 not equal constraint =  [A1, A2, A4, A5, A6, A7, A8, A9]\n",
      "A4 not equal constraint =  [A1, A2, A3, A5, A6, A7, A8, A9]\n",
      "A5 not equal constraint =  [A1, A2, A3, A4, A6, A7, A8, A9]\n",
      "A6 not equal constraint =  [A1, A2, A3, A4, A5, A7, A8, A9]\n",
      "A7 not equal constraint =  [A1, A2, A3, A4, A5, A6, A8, A9]\n",
      "A8 not equal constraint =  [A1, A2, A3, A4, A5, A6, A7, A9]\n",
      "A9 not equal constraint =  [A1, A2, A3, A4, A5, A6, A7, A8]\n",
      "B1 not equal constraint =  [B2, B3, B4, B5, B6, B7, B8, B9]\n",
      "B2 not equal constraint =  [B1, B3, B4, B5, B6, B7, B8, B9]\n",
      "B3 not equal constraint =  [B1, B2, B4, B5, B6, B7, B8, B9]\n",
      "B4 not equal constraint =  [B1, B2, B3, B5, B6, B7, B8, B9]\n",
      "B5 not equal constraint =  [B1, B2, B3, B4, B6, B7, B8, B9]\n",
      "B6 not equal constraint =  [B1, B2, B3, B4, B5, B7, B8, B9]\n",
      "B7 not equal constraint =  [B1, B2, B3, B4, B5, B6, B8, B9]\n",
      "B8 not equal constraint =  [B1, B2, B3, B4, B5, B6, B7, B9]\n",
      "B9 not equal constraint =  [B1, B2, B3, B4, B5, B6, B7, B8]\n",
      "C1 not equal constraint =  [C2, C3, C4, C5, C6, C7, C8, C9]\n",
      "C2 not equal constraint =  [C1, C3, C4, C5, C6, C7, C8, C9]\n",
      "C3 not equal constraint =  [C1, C2, C4, C5, C6, C7, C8, C9]\n",
      "C4 not equal constraint =  [C1, C2, C3, C5, C6, C7, C8, C9]\n",
      "C5 not equal constraint =  [C1, C2, C3, C4, C6, C7, C8, C9]\n",
      "C6 not equal constraint =  [C1, C2, C3, C4, C5, C7, C8, C9]\n",
      "C7 not equal constraint =  [C1, C2, C3, C4, C5, C6, C8, C9]\n",
      "C8 not equal constraint =  [C1, C2, C3, C4, C5, C6, C7, C9]\n",
      "C9 not equal constraint =  [C1, C2, C3, C4, C5, C6, C7, C8]\n",
      "D1 not equal constraint =  [D2, D3, D4, D5, D6, D7, D8, D9]\n",
      "D2 not equal constraint =  [D1, D3, D4, D5, D6, D7, D8, D9]\n",
      "D3 not equal constraint =  [D1, D2, D4, D5, D6, D7, D8, D9]\n",
      "D4 not equal constraint =  [D1, D2, D3, D5, D6, D7, D8, D9]\n",
      "D5 not equal constraint =  [D1, D2, D3, D4, D6, D7, D8, D9]\n",
      "D6 not equal constraint =  [D1, D2, D3, D4, D5, D7, D8, D9]\n",
      "D7 not equal constraint =  [D1, D2, D3, D4, D5, D6, D8, D9]\n",
      "D8 not equal constraint =  [D1, D2, D3, D4, D5, D6, D7, D9]\n",
      "D9 not equal constraint =  [D1, D2, D3, D4, D5, D6, D7, D8]\n",
      "E1 not equal constraint =  [E2, E3, E4, E5, E6, E7, E8, E9]\n",
      "E2 not equal constraint =  [E1, E3, E4, E5, E6, E7, E8, E9]\n",
      "E3 not equal constraint =  [E1, E2, E4, E5, E6, E7, E8, E9]\n",
      "E4 not equal constraint =  [E1, E2, E3, E5, E6, E7, E8, E9]\n",
      "E5 not equal constraint =  [E1, E2, E3, E4, E6, E7, E8, E9]\n",
      "E6 not equal constraint =  [E1, E2, E3, E4, E5, E7, E8, E9]\n",
      "E7 not equal constraint =  [E1, E2, E3, E4, E5, E6, E8, E9]\n",
      "E8 not equal constraint =  [E1, E2, E3, E4, E5, E6, E7, E9]\n",
      "E9 not equal constraint =  [E1, E2, E3, E4, E5, E6, E7, E8]\n",
      "F1 not equal constraint =  [F2, F3, F4, F5, F6, F7, F8, F9]\n",
      "F2 not equal constraint =  [F1, F3, F4, F5, F6, F7, F8, F9]\n",
      "F3 not equal constraint =  [F1, F2, F4, F5, F6, F7, F8, F9]\n",
      "F4 not equal constraint =  [F1, F2, F3, F5, F6, F7, F8, F9]\n",
      "F5 not equal constraint =  [F1, F2, F3, F4, F6, F7, F8, F9]\n",
      "F6 not equal constraint =  [F1, F2, F3, F4, F5, F7, F8, F9]\n",
      "F7 not equal constraint =  [F1, F2, F3, F4, F5, F6, F8, F9]\n",
      "F8 not equal constraint =  [F1, F2, F3, F4, F5, F6, F7, F9]\n",
      "F9 not equal constraint =  [F1, F2, F3, F4, F5, F6, F7, F8]\n",
      "G1 not equal constraint =  [G2, G3, G4, G5, G6, G7, G8, G9]\n",
      "G2 not equal constraint =  [G1, G3, G4, G5, G6, G7, G8, G9]\n",
      "G3 not equal constraint =  [G1, G2, G4, G5, G6, G7, G8, G9]\n",
      "G4 not equal constraint =  [G1, G2, G3, G5, G6, G7, G8, G9]\n",
      "G5 not equal constraint =  [G1, G2, G3, G4, G6, G7, G8, G9]\n",
      "G6 not equal constraint =  [G1, G2, G3, G4, G5, G7, G8, G9]\n",
      "G7 not equal constraint =  [G1, G2, G3, G4, G5, G6, G8, G9]\n",
      "G8 not equal constraint =  [G1, G2, G3, G4, G5, G6, G7, G9]\n",
      "G9 not equal constraint =  [G1, G2, G3, G4, G5, G6, G7, G8]\n",
      "H1 not equal constraint =  [H2, H3, H4, H5, H6, H7, H8, H9]\n",
      "H2 not equal constraint =  [H1, H3, H4, H5, H6, H7, H8, H9]\n",
      "H3 not equal constraint =  [H1, H2, H4, H5, H6, H7, H8, H9]\n",
      "H4 not equal constraint =  [H1, H2, H3, H5, H6, H7, H8, H9]\n",
      "H5 not equal constraint =  [H1, H2, H3, H4, H6, H7, H8, H9]\n",
      "H6 not equal constraint =  [H1, H2, H3, H4, H5, H7, H8, H9]\n",
      "H7 not equal constraint =  [H1, H2, H3, H4, H5, H6, H8, H9]\n",
      "H8 not equal constraint =  [H1, H2, H3, H4, H5, H6, H7, H9]\n",
      "H9 not equal constraint =  [H1, H2, H3, H4, H5, H6, H7, H8]\n",
      "I1 not equal constraint =  [I2, I3, I4, I5, I6, I7, I8, I9]\n",
      "I2 not equal constraint =  [I1, I3, I4, I5, I6, I7, I8, I9]\n",
      "I3 not equal constraint =  [I1, I2, I4, I5, I6, I7, I8, I9]\n",
      "I4 not equal constraint =  [I1, I2, I3, I5, I6, I7, I8, I9]\n",
      "I5 not equal constraint =  [I1, I2, I3, I4, I6, I7, I8, I9]\n",
      "I6 not equal constraint =  [I1, I2, I3, I4, I5, I7, I8, I9]\n",
      "I7 not equal constraint =  [I1, I2, I3, I4, I5, I6, I8, I9]\n",
      "I8 not equal constraint =  [I1, I2, I3, I4, I5, I6, I7, I9]\n",
      "I9 not equal constraint =  [I1, I2, I3, I4, I5, I6, I7, I8]\n"
     ]
    }
   ],
   "source": [
    "# TODO: Add constraints that every box has a value between 1-9 (inclusive)\n",
    "for boxes_row in boxes:    \n",
    "    for box in boxes_row:\n",
    "        s_solver.add(1 <= box, box <= 9 )\n",
    "\n",
    "# TODO: Add constraints that every box in a row has a distinct value\n",
    "horizontal_1to9_constraint_list = []\n",
    "for boxes_row in boxes:\n",
    "    box_col = 0\n",
    "    for box in boxes_row:\n",
    "        box_col += 1\n",
    "        box_col_2 = 0\n",
    "        horizontal_1to9_constraint_list = []\n",
    "        for col_box in boxes_row:\n",
    "            box_col_2 += 1\n",
    "            # approach 1 for building constraint list\n",
    "            # do not add itself to list\n",
    "            if (box_col != box_col_2):\n",
    "                horizontal_1to9_constraint_list.append(col_box)\n",
    "                \n",
    "        s_solver.add(box != Distinct(horizontal_1to9_constraint_list))\n",
    "        print (box, 'not equal constraint = ', horizontal_1to9_constraint_list)\n",
    "        \n",
    "\n",
    "# TODO: Add constraints that every box in a column has a distinct value\n",
    "# vertical_1to9_constraint_list = []\n",
    "# for col_index in range(0, len(boxes[0])):\n",
    "#     # get index col boxes\n",
    "#     vertical_1to9_constraint_list = []\n",
    "#     for row_index in range(0, len(boxes)):\n",
    "#         box = boxes[row_index][col_index]\n",
    "#         vertical_1to9_constraint_list.append(box)        \n",
    "# #     print (vertical_1to9_constraint_list)\n",
    "\n",
    "#     for box in vertical_1to9_constraint_list:\n",
    "#         next_constraint_list = vertical_1to9_constraint_list.copy()\n",
    "#         # approach 2 for building constraint list\n",
    "#         # remove itself from list\n",
    "#         next_constraint_list.remove(box)\n",
    "#         print (next_constraint_list)\n",
    "#         s_solver.add(box != Distinct(next_constraint_list))\n",
    "                     \n",
    "\n",
    "# TODO: Add constraints so that every box in a 3x3 block has a distinct value\n",
    "# s_solver.add( # YOUR CODE HERE )"
   ]
  },
  {
   "cell_type": "markdown",
   "metadata": {
    "nbpresent": {
     "id": "f1b56883-382a-4196-916c-082efdfc65f2"
    }
   },
   "source": [
    "#### IMPLMENTATION: Puzzle-Specific Constraints\n",
    "Given the hints provided in the initial puzzle layout, you must also add constraints binding the box values to the specified values. For example, to solve the example puzzle you must specify A3 == 3 and B1 == 9, etc. The cells with a value of zero in the board below are \"blank\", so you should **not** create any constraint with the associate box."
   ]
  },
  {
   "cell_type": "code",
   "execution_count": 602,
   "metadata": {
    "nbpresent": {
     "id": "c8e94ffa-db68-4863-bbd7-db0c475cd25e"
    }
   },
   "outputs": [],
   "source": [
    "# use the value 0 to indicate that a box does not have an assigned value\n",
    "board = ((0, 0, 3, 0, 2, 0, 6, 0, 0),\n",
    "         (9, 0, 0, 3, 0, 5, 0, 0, 1),\n",
    "         (0, 0, 1, 8, 0, 6, 4, 0, 0),\n",
    "         (0, 0, 8, 1, 0, 2, 9, 0, 0),\n",
    "         (7, 0, 0, 0, 0, 0, 0, 0, 8),\n",
    "         (0, 0, 6, 7, 0, 8, 2, 0, 0),\n",
    "         (0, 0, 2, 6, 0, 9, 5, 0, 0),\n",
    "         (8, 0, 0, 2, 0, 3, 0, 0, 9),\n",
    "         (0, 0, 5, 0, 1, 0, 3, 0, 0))\n",
    "\n",
    "# TODO: Add constraints boxes[i][j] == board[i][j] for each box where board[i][j] != 0\n",
    "\n",
    "for i in range(0, len(board)):\n",
    "    row_str = ''\n",
    "    for j in range(0, len(board[0])):\n",
    "        if(board[i][j] != 0):\n",
    "#             print(boxes[i][j], '==', board[i][j])\n",
    "            s_solver.add(boxes[i][j] == board[i][j])\n"
   ]
  },
  {
   "cell_type": "code",
   "execution_count": 603,
   "metadata": {
    "nbpresent": {
     "id": "434efeca-ee4e-46ce-a520-bd9523029cbc"
    }
   },
   "outputs": [
    {
     "name": "stdout",
     "output_type": "stream",
     "text": [
      " 5  9  3 | 7  2  4 | 6  8  8 \n",
      " 9  2  2 | 3  6  5 | 7  8  1 \n",
      " 2  5  1 | 8  5  6 | 4  3  9 \n",
      "---------|---------|---------\n",
      " 3  5  8 | 1  4  2 | 9  6  3 \n",
      " 7  2  1 | 5  6  3 | 9  3  8 \n",
      " 9  3  6 | 7  1  8 | 2  5  9 \n",
      "---------|---------|---------\n",
      " 1  3  2 | 6  7  9 | 5  4  4 \n",
      " 8  4  6 | 2  5  3 | 6  1  9 \n",
      " 6  7  5 | 8  1  4 | 3  4  2 \n"
     ]
    }
   ],
   "source": [
    "assert s_solver.check() == sat, \"Uh oh. The solver didn't find a solution. Check your constraints.\"\n",
    "for row, _boxes in enumerate(boxes):\n",
    "    if row and row % 3 == 0:\n",
    "        print('-'*9+\"|\"+'-'*9+\"|\"+'-'*9)\n",
    "    for col, box in enumerate(_boxes):\n",
    "        if col and col % 3 == 0:\n",
    "            print('|', end='')\n",
    "        print(' {} '.format(s_solver.model()[box]), end='')\n",
    "    print()"
   ]
  },
  {
   "cell_type": "code",
   "execution_count": null,
   "metadata": {},
   "outputs": [],
   "source": [
    "# Testing only - Constraints on rows\n",
    "# The constraints on rows and columns dont seem to be working, there are clearly duplicate digits in some rows."
   ]
  },
  {
   "cell_type": "markdown",
   "metadata": {
    "nbpresent": {
     "id": "aea11779-0c24-4c33-98b1-d23b61c3d76c"
    }
   },
   "source": [
    "#### Sudoku Challenges\n",
    "1. Solve the \"[hardest sudoku puzzle](# https://www.telegraph.co.uk/news/science/science-news/9359579/Worlds-hardest-sudoku-can-you-crack-it.html)\"\n",
    "2. Search for \"3d Sudoku rules\", then extend your solver to handle 3d puzzles"
   ]
  }
 ],
 "metadata": {
  "anaconda-cloud": {},
  "kernelspec": {
   "display_name": "Python [default]",
   "language": "python",
   "name": "python3"
  },
  "language_info": {
   "codemirror_mode": {
    "name": "ipython",
    "version": 3
   },
   "file_extension": ".py",
   "mimetype": "text/x-python",
   "name": "python",
   "nbconvert_exporter": "python",
   "pygments_lexer": "ipython3",
   "version": "3.5.4"
  }
 },
 "nbformat": 4,
 "nbformat_minor": 1
}
